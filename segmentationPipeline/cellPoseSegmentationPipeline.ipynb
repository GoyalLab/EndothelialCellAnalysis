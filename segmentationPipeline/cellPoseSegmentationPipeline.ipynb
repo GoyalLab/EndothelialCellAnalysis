{
 "cells": [
  {
   "cell_type": "markdown",
   "metadata": {},
   "source": [
    "# This notebook contains code to run CellPose for cell segmentation"
   ]
  },
  {
   "cell_type": "markdown",
   "metadata": {},
   "source": [
    "## Adding last modified data"
   ]
  },
  {
   "cell_type": "code",
   "execution_count": 2,
   "metadata": {},
   "outputs": [
    {
     "data": {
      "text/markdown": [
       "Last modified on 2024-04-19 at 02:17:11.944995 by Keerthana Arun"
      ],
      "text/plain": [
       "<IPython.core.display.Markdown object>"
      ]
     },
     "metadata": {},
     "output_type": "display_data"
    }
   ],
   "source": [
    "#Adding last modified date\n",
    "from datetime import datetime\n",
    "from IPython.display import display, Markdown\n",
    "todays_date = str(datetime.now().date())\n",
    "time = str(str(datetime.now().time()))\n",
    "author = \"Keerthana Arun\"\n",
    "display(Markdown(f'Last modified on {todays_date} at {time} by {author}'))"
   ]
  },
  {
   "cell_type": "markdown",
   "metadata": {},
   "source": [
    "## Installing and importing package"
   ]
  },
  {
   "cell_type": "markdown",
   "metadata": {},
   "source": [
    "### Installation"
   ]
  },
  {
   "cell_type": "code",
   "execution_count": 3,
   "metadata": {},
   "outputs": [],
   "source": [
    "# # %pip install \"opencv-python-headless<4.3\"\n",
    "# # %pip install cellpose==2.0\n",
    "# # %pip install pandas\n",
    "# %pip install scikit-image\n",
    "# # %pip install multipagetiff"
   ]
  },
  {
   "cell_type": "markdown",
   "metadata": {},
   "source": [
    "### Importing packages"
   ]
  },
  {
   "cell_type": "code",
   "execution_count": 4,
   "metadata": {},
   "outputs": [],
   "source": [
    "import numpy as np\n",
    "import time, os, sys\n",
    "from urllib.parse import urlparse\n",
    "import skimage.io\n",
    "import matplotlib.pyplot as plt\n",
    "import matplotlib as mpl\n",
    "import cellpose\n",
    "%matplotlib inline\n",
    "# mpl.rcParams['figure.dpi'] = 300\n",
    "import csv\n",
    "from urllib.parse import urlparse\n",
    "from cellpose import models, core, utils, io\n",
    "import torch\n",
    "from os import listdir\n",
    "from os.path import isfile, join\n",
    "import multipagetiff as mtif\n",
    "from PIL import Image, ImageFile\n",
    "ImageFile.LOAD_TRUNCATED_IMAGES = True\n",
    "from cellpose import plot\n",
    "import matplotlib.pyplot as plt\n",
    "import pandas as pd"
   ]
  },
  {
   "cell_type": "code",
   "execution_count": 5,
   "metadata": {},
   "outputs": [
    {
     "name": "stdout",
     "output_type": "stream",
     "text": [
      "Package                   Version\n",
      "------------------------- --------------\n",
      "anndata                   0.10.3\n",
      "anyio                     4.3.0\n",
      "argon2-cffi               23.1.0\n",
      "argon2-cffi-bindings      21.2.0\n",
      "array-api-compat          1.4\n",
      "arrow                     1.3.0\n",
      "asttokens                 2.4.1\n",
      "async-lru                 2.0.4\n",
      "attrs                     23.2.0\n",
      "Babel                     2.14.0\n",
      "beautifulsoup4            4.12.3\n",
      "bleach                    6.1.0\n",
      "cachetools                5.3.3\n",
      "cellpose                  2.0\n",
      "certifi                   2024.2.2\n",
      "cffi                      1.16.0\n",
      "charset-normalizer        3.3.2\n",
      "comm                      0.2.2\n",
      "contourpy                 1.2.1\n",
      "cycler                    0.12.1\n",
      "debugpy                   1.8.1\n",
      "decorator                 5.1.1\n",
      "defusedxml                0.7.1\n",
      "executing                 2.0.1\n",
      "fastjsonschema            2.19.1\n",
      "fastremap                 1.14.1\n",
      "filelock                  3.13.4\n",
      "fonttools                 4.51.0\n",
      "fqdn                      1.5.1\n",
      "fsspec                    2024.3.1\n",
      "google-api-core           2.18.0\n",
      "google-auth               2.29.0\n",
      "google-cloud-core         2.4.1\n",
      "google-cloud-storage      2.16.0\n",
      "google-crc32c             1.5.0\n",
      "google-resumable-media    2.7.0\n",
      "googleapis-common-protos  1.63.0\n",
      "h11                       0.14.0\n",
      "h5py                      3.10.0\n",
      "httpcore                  1.0.5\n",
      "httpx                     0.27.0\n",
      "idna                      3.7\n",
      "imageio                   2.34.0\n",
      "ipykernel                 6.29.4\n",
      "ipython                   8.23.0\n",
      "ipywidgets                8.1.2\n",
      "isoduration               20.11.0\n",
      "jedi                      0.19.1\n",
      "Jinja2                    3.1.3\n",
      "json5                     0.9.24\n",
      "jsonpointer               2.4\n",
      "jsonschema                4.21.1\n",
      "jsonschema-specifications 2023.12.1\n",
      "jupyter                   1.0.0\n",
      "jupyter_client            8.6.1\n",
      "jupyter-console           6.6.3\n",
      "jupyter_core              5.7.2\n",
      "jupyter-events            0.10.0\n",
      "jupyter-lsp               2.2.5\n",
      "jupyter_server            2.14.0\n",
      "jupyter_server_terminals  0.5.3\n",
      "jupyterlab                4.1.6\n",
      "jupyterlab_pygments       0.3.0\n",
      "jupyterlab_server         2.26.0\n",
      "jupyterlab_widgets        3.0.10\n",
      "kiwisolver                1.4.5\n",
      "lazy_loader               0.4\n",
      "llvmlite                  0.41.1\n",
      "MarkupSafe                2.1.5\n",
      "matplotlib                3.8.4\n",
      "matplotlib-inline         0.1.6\n",
      "mistune                   3.0.2\n",
      "mpmath                    1.3.0\n",
      "multipagetiff             3.0.9\n",
      "natsort                   8.4.0\n",
      "nbclient                  0.10.0\n",
      "nbconvert                 7.16.3\n",
      "nbformat                  5.10.4\n",
      "nest-asyncio              1.6.0\n",
      "networkx                  3.3\n",
      "notebook                  7.1.2\n",
      "notebook_shim             0.2.4\n",
      "numba                     0.58.1\n",
      "numpy                     1.26.4\n",
      "nvidia-cublas-cu12        12.1.3.1\n",
      "nvidia-cuda-cupti-cu12    12.1.105\n",
      "nvidia-cuda-nvrtc-cu12    12.1.105\n",
      "nvidia-cuda-runtime-cu12  12.1.105\n",
      "nvidia-cudnn-cu12         8.9.2.26\n",
      "nvidia-cufft-cu12         11.0.2.54\n",
      "nvidia-curand-cu12        10.3.2.106\n",
      "nvidia-cusolver-cu12      11.4.5.107\n",
      "nvidia-cusparse-cu12      12.1.0.106\n",
      "nvidia-nccl-cu12          2.19.3\n",
      "nvidia-nvjitlink-cu12     12.4.127\n",
      "nvidia-nvtx-cu12          12.1.105\n",
      "opencv-python-headless    3.4.18.65\n",
      "overrides                 7.7.0\n",
      "packaging                 24.0\n",
      "pandas                    2.2.2\n",
      "pandocfilters             1.5.1\n",
      "parso                     0.8.4\n",
      "patsy                     0.5.3\n",
      "pexpect                   4.9.0\n",
      "pillow                    10.3.0\n",
      "pip                       23.3.1\n",
      "platformdirs              4.2.0\n",
      "prometheus_client         0.20.0\n",
      "prompt-toolkit            3.0.43\n",
      "proto-plus                1.23.0\n",
      "protobuf                  4.25.3\n",
      "psutil                    5.9.8\n",
      "ptyprocess                0.7.0\n",
      "pure-eval                 0.2.2\n",
      "pyasn1                    0.6.0\n",
      "pyasn1_modules            0.4.0\n",
      "pycparser                 2.22\n",
      "Pygments                  2.17.2\n",
      "pynndescent               0.5.10\n",
      "pyparsing                 3.1.2\n",
      "PyQt5                     5.15.10\n",
      "PyQt5-Qt5                 5.15.2\n",
      "PyQt5-sip                 12.13.0\n",
      "pyqtgraph                 0.13.4\n",
      "python-dateutil           2.9.0.post0\n",
      "python-json-logger        2.0.7\n",
      "pytz                      2024.1\n",
      "PyYAML                    6.0.1\n",
      "pyzmq                     25.1.2\n",
      "qtconsole                 5.5.1\n",
      "QtPy                      2.4.1\n",
      "referencing               0.34.0\n",
      "requests                  2.31.0\n",
      "rfc3339-validator         0.1.4\n",
      "rfc3986-validator         0.1.1\n",
      "rpds-py                   0.18.0\n",
      "rsa                       4.9\n",
      "scanpy                    1.9.6\n",
      "scikit-image              0.23.1\n",
      "scipy                     1.13.0\n",
      "seaborn                   0.12.2\n",
      "Send2Trash                1.8.3\n",
      "session-info              1.0.0\n",
      "setuptools                65.5.1\n",
      "six                       1.16.0\n",
      "sniffio                   1.3.1\n",
      "soupsieve                 2.5\n",
      "stack-data                0.6.3\n",
      "statsmodels               0.14.0\n",
      "stdlib-list               0.9.0\n",
      "sympy                     1.12\n",
      "tbb                       2021.11.0\n",
      "terminado                 0.18.1\n",
      "tifffile                  2024.2.12\n",
      "tinycss2                  1.2.1\n",
      "torch                     2.2.2\n",
      "tornado                   6.4\n",
      "tqdm                      4.66.1\n",
      "traitlets                 5.14.2\n",
      "triton                    2.2.0\n",
      "types-python-dateutil     2.9.0.20240316\n",
      "typing_extensions         4.11.0\n",
      "tzdata                    2024.1\n",
      "umap-learn                0.5.4\n",
      "uri-template              1.3.0\n",
      "urllib3                   2.2.1\n",
      "wcwidth                   0.2.13\n",
      "webcolors                 1.13\n",
      "webencodings              0.5.1\n",
      "websocket-client          1.7.0\n",
      "wheel                     0.38.4\n",
      "widgetsnbextension        4.0.10\n",
      "\n",
      "\u001b[1m[\u001b[0m\u001b[34;49mnotice\u001b[0m\u001b[1;39;49m]\u001b[0m\u001b[39;49m A new release of pip is available: \u001b[0m\u001b[31;49m23.3.1\u001b[0m\u001b[39;49m -> \u001b[0m\u001b[32;49m24.0\u001b[0m\n",
      "\u001b[1m[\u001b[0m\u001b[34;49mnotice\u001b[0m\u001b[1;39;49m]\u001b[0m\u001b[39;49m To update, run: \u001b[0m\u001b[32;49mpip install --upgrade pip\u001b[0m\n",
      "Note: you may need to restart the kernel to use updated packages.\n"
     ]
    }
   ],
   "source": [
    "%pip list"
   ]
  },
  {
   "cell_type": "markdown",
   "metadata": {},
   "source": [
    "## Processing"
   ]
  },
  {
   "cell_type": "markdown",
   "metadata": {},
   "source": [
    "List of images to be analysed"
   ]
  },
  {
   "cell_type": "code",
   "execution_count": 6,
   "metadata": {},
   "outputs": [],
   "source": [
    "def getListOfFiles(dirName):\n",
    "    # create a list of file and sub directories \n",
    "    # names in the given directory \n",
    "    listOfFile = os.listdir(dirName)\n",
    "    allFiles = list()\n",
    "    # Iterate over all the entries\n",
    "    for entry in listOfFile:\n",
    "        # Create full path\n",
    "        fullPath = os.path.join(dirName, entry)\n",
    "        # If entry is a directory then get the list of files in this directory \n",
    "        if os.path.isdir(fullPath):\n",
    "            allFiles = allFiles + getListOfFiles(fullPath)\n",
    "        else:\n",
    "            allFiles.append(fullPath)\n",
    "    return allFiles"
   ]
  },
  {
   "cell_type": "markdown",
   "metadata": {},
   "source": [
    "Given a list of files with parameters, run CellPoseModel"
   ]
  },
  {
   "cell_type": "code",
   "execution_count": 7,
   "metadata": {},
   "outputs": [],
   "source": [
    "def runCellPoseModel(filePath, condition, diameterParam, flowThresholdParam, cellprobThresholdParam, outputPath):\n",
    "    files = [f for f in listdir(filePath) if isfile(join(filePath, f))]\n",
    "    spec = \"zoverlay\"\n",
    "    files = [f for f in files if spec in f]\n",
    "    files = [f for f in files if condition in f]\n",
    "    files = sorted(files)\n",
    "    nimg = len(files)\n",
    "    print(nimg)\n",
    "    os.chdir(filePath)\n",
    "    imgs = [skimage.io.imread(f) for f in files]\n",
    "    channelsParam = [[0,3]]\n",
    "    modelTypeParam = \"cyto2\"\n",
    " \n",
    "    use_GPU = core.use_gpu()\n",
    "    model = models.CellposeModel(gpu=use_GPU, model_type=modelTypeParam)\n",
    "    masks, flows, styles = model.eval(imgs, diameter=int(diameterParam), flow_threshold=float(flowThresholdParam), channels=channelsParam, cellprob_threshold=int(cellprobThresholdParam))\n",
    "    outputImagesPath = os.path.join(outputPath, \"Images\")\n",
    "    outputSegPath = os.path.join(outputPath, \"Segmentation\")\n",
    "    if not os.path.exists(outputImagesPath):\n",
    "        os.makedirs(outputImagesPath) \n",
    "    if not os.path.exists(outputSegPath):\n",
    "        os.makedirs(outputSegPath) \n",
    "    os.chdir(outputSegPath)\n",
    "    io.masks_flows_to_seg(imgs, masks, flows, diams=int(diameterParam), file_names=files, channels=channelsParam)\n",
    "    os.chdir(outputImagesPath)\n",
    "    io.save_to_png(imgs, masks, flows, files)\n",
    "    return\n",
    "\n",
    "\n"
   ]
  },
  {
   "attachments": {},
   "cell_type": "markdown",
   "metadata": {},
   "source": [
    "Running CellPose with human-trained model"
   ]
  },
  {
   "cell_type": "code",
   "execution_count": 8,
   "metadata": {},
   "outputs": [],
   "source": [
    "def runCellPoseModelHuman(filePath, condition, diameterParam, flowThresholdParam, cellprobThresholdParam, outputPath):\n",
    "    files = [f for f in listdir(filePath) if isfile(join(filePath, f))]\n",
    "    spec = \"zoverlay\"\n",
    "    files = [f for f in files if spec in f]\n",
    "    files = [f for f in files if condition in f]\n",
    "    files = sorted(files)\n",
    "    nimg = len(files)\n",
    "    print(nimg)\n",
    "    os.chdir(filePath)\n",
    "    imgs = [skimage.io.imread(f) for f in files]\n",
    "    channelsParam = [[0,3]]\n",
    "    modelTypeParam = \"cyto2\"\n",
    "    pretrainedModel = \"/home/mzo5929/Keerthana/MoiseEtAl/Model/Figure6New-5\"\n",
    "    use_GPU = core.use_gpu()\n",
    "    model = models.CellposeModel(gpu=use_GPU, model_type=modelTypeParam, pretrained_model= pretrainedModel)\n",
    "    masks, flows, styles = model.eval(imgs, diameter=int(diameterParam), flow_threshold=float(flowThresholdParam), channels=channelsParam, cellprob_threshold=int(cellprobThresholdParam))\n",
    "    outputImagesPath = os.path.join(outputPath, \"Images\")\n",
    "    outputSegPath = os.path.join(outputPath, \"Segmentation\")\n",
    "    if not os.path.exists(outputImagesPath):\n",
    "        os.makedirs(outputImagesPath) \n",
    "    if not os.path.exists(outputSegPath):\n",
    "        os.makedirs(outputSegPath) \n",
    "    os.chdir(outputSegPath)\n",
    "    io.masks_flows_to_seg(imgs, masks, flows, diams=int(diameterParam), file_names=files, channels=channelsParam)\n",
    "    os.chdir(outputImagesPath)\n",
    "    io.save_to_png(imgs, masks, flows, files)\n",
    "    return\n"
   ]
  },
  {
   "cell_type": "markdown",
   "metadata": {},
   "source": [
    "Function to run tasks in parallel"
   ]
  },
  {
   "cell_type": "code",
   "execution_count": 9,
   "metadata": {},
   "outputs": [],
   "source": [
    "import csv\n",
    "from concurrent.futures import ProcessPoolExecutor\n",
    "\n",
    "def runTaskFromCsv(row):\n",
    "    # Unpack the row directly into the function call\n",
    "    runCellPoseModelHuman(*row)\n"
   ]
  },
  {
   "cell_type": "markdown",
   "metadata": {},
   "source": [
    "## Main "
   ]
  },
  {
   "cell_type": "markdown",
   "metadata": {},
   "source": [
    "### Input parameters\n",
    "Input path to raw images, csv files for parameters to input for CellPose"
   ]
  },
  {
   "cell_type": "code",
   "execution_count": 15,
   "metadata": {},
   "outputs": [],
   "source": [
    "# dataPath = \"\"\n",
    "csvParameters = \"/home/mzo5929/Keerthana/MoiseEtAl/rawData/parametersf6.csv\"\n",
    "# outputPath = \"\""
   ]
  },
  {
   "cell_type": "code",
   "execution_count": 16,
   "metadata": {},
   "outputs": [
    {
     "data": {
      "text/plain": [
       "(6, 6)"
      ]
     },
     "execution_count": 16,
     "metadata": {},
     "output_type": "execute_result"
    }
   ],
   "source": [
    "parameterDf = pd.read_csv(csvParameters)\n",
    "parameterDf.shape"
   ]
  },
  {
   "cell_type": "markdown",
   "metadata": {},
   "source": [
    "### Main Function"
   ]
  },
  {
   "cell_type": "code",
   "execution_count": 17,
   "metadata": {},
   "outputs": [
    {
     "name": "stdout",
     "output_type": "stream",
     "text": [
      "['/home/mzo5929/Keerthana/MoiseEtAl/rawData/figure6/2024_03_08_acetyltub_kocells/SM9 HDAC6KO Flow', 'flow', '180', '0.4', '0', '/home/mzo5929/Keerthana/MoiseEtAl/extractedData/segmentationResults/figure6/2024_03_08_acetyltub_kocells/SM9 HDAC6KO Flow']\n",
      "47\n"
     ]
    }
   ],
   "source": [
    "tasks = []\n",
    "index = 0\n",
    "with open(csvParameters, 'r') as file:\n",
    "    os.chdir(\"/home/mzo5929/Keerthana/MoiseEtAl/extractionScripts\")\n",
    "    reader = csv.reader(file)\n",
    "    next(reader)  # Skip the header row if there is one\n",
    "    for row in reader:\n",
    "        if(index <5):\n",
    "            index = index+1\n",
    "            continue\n",
    "        tasks.append(row)  # Collect tasks\n",
    "        print(row)\n",
    "        runTaskFromCsv(row)"
   ]
  },
  {
   "cell_type": "markdown",
   "metadata": {},
   "source": []
  }
 ],
 "metadata": {
  "kernelspec": {
   "display_name": "cellPose",
   "language": "python",
   "name": "python3"
  },
  "language_info": {
   "codemirror_mode": {
    "name": "ipython",
    "version": 3
   },
   "file_extension": ".py",
   "mimetype": "text/x-python",
   "name": "python",
   "nbconvert_exporter": "python",
   "pygments_lexer": "ipython3",
   "version": "3.11.8"
  }
 },
 "nbformat": 4,
 "nbformat_minor": 2
}
